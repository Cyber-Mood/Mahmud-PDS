{
  "nbformat": 4,
  "nbformat_minor": 0,
  "metadata": {
    "colab": {
      "provenance": [],
      "authorship_tag": "ABX9TyPkT3n+yRUH81VbXGZ6eSgi",
      "include_colab_link": true
    },
    "kernelspec": {
      "name": "python3",
      "display_name": "Python 3"
    },
    "language_info": {
      "name": "python"
    }
  },
  "cells": [
    {
      "cell_type": "markdown",
      "metadata": {
        "id": "view-in-github",
        "colab_type": "text"
      },
      "source": [
        "<a href=\"https://colab.research.google.com/github/Cyber-Mood/Mahmud-PDS/blob/main/PDS_Assignment_1(Mahmud).ipynb\" target=\"_parent\"><img src=\"https://colab.research.google.com/assets/colab-badge.svg\" alt=\"Open In Colab\"/></a>"
      ]
    },
    {
      "cell_type": "markdown",
      "source": [
        "#Short Questions"
      ],
      "metadata": {
        "id": "Vi0LRY-qyleN"
      }
    },
    {
      "cell_type": "markdown",
      "source": [
        "**1. How many basic data types are there in Python?**  \n",
        "**A.** Python has 8 basic data types: Numeric, Text, Sequence, Mapping, Set, Boolean, None.\n",
        "\n",
        "**2. How do you create a list in Python? Provide an example.**\n",
        "```python\n",
        "my_list = [55, 22, 3, \"biryani\", \"pulao\"]\n",
        "```\n",
        "**3. How do you create a variable in Python and assign the value 15 to it?**\n",
        "```python\n",
        "my_variable = 15\n",
        "```\n",
        "**4. What is the difference between ‘=’ and ‘==’ in Python?**  \n",
        "- **'='** assigns a value to a variable, e.g., `x = 5`\n",
        "- **'=='** checks if two values are equal, e.g., `x == 5`.\n",
        "\n",
        "**5. How do you access the first element of a list named ‘my_list’?**\n",
        "```python\n",
        "my_list = [55, 22, 3, \"biryani\", \"pulao\"]\n",
        "my_list[0]\n",
        "```\n",
        "**6. What does the ‘len()’ function do in Python?**  \n",
        "The `len()` function returns the number of items in an object, like the length of a list, string, or other iterable.\n",
        "```python\n",
        "length = len(my_list)\n",
        "```\n",
        "\n",
        "**7. How do you write a docstring in Python?**  \n",
        "In Python, a **docstring** is written using triple quotes (`\"\"\"` or `'''`) and is placed below a function, class, or module to describe its purpose.\n",
        "```python\n",
        "\"\"\"This is a docstring.\"\"\"\n",
        "#similar to comment\n",
        "```\n",
        "**8. What is the difference between a list and a tuple?**  \n",
        "- **List**: Mutable (can be changed), defined with `[]`.\n",
        "- **Tuple**: Immutable (cannot be changed), defined with `()`.\n",
        "\n",
        "**9.How do you cast an integer to a string in Python?**  \n",
        "**A.** Use the `str()` function to cast an integer to a string.\n",
        "```python\n",
        "str_value = str(15)\n",
        "```\n",
        "**10. What is the difference between ‘=’ and ‘==’ in Python?**  \n",
        "- **'='** assigns a value to a variable, e.g., `x = 5`\n",
        "- **'=='** checks if two values are equal, e.g., `x == 5`.\n",
        "\n",
        "**11. Print the output of the following code:**  \n",
        "s = \"Introduction to python\"  \n",
        "print(s[:8:2])  \n",
        "print(s[::-1])  \n",
        "print(s[1::2])  \n",
        "**Output**  \n",
        "1. Ito  \n",
        "2. nohtyp ot noitcudortnI  \n",
        "3. ntoucot yhn  \n",
        "\n",
        "**12. What is the purpose of the %timeit magic command?**  \n",
        "**A.** The `%timeit` magic command in IPython is used to measure the execution time of a statement or expression, running it multiple times for more accurate timing.\n",
        "\n",
        "**13. What is the purpose of a Python comment, and how do you write a single-line comment in Python?**  \n",
        "**A.** A Python comment is used to explain code or make it more readable.\n",
        "\n",
        "**Single-line comment**: Start with `#`.\n",
        "```python\n",
        "# Ma'am assignment korte bhalo lage na 😭.\n",
        "```\n",
        "**14. What is the difference between %time and %timeit in IPython?**  \n",
        "- **%time**: Measures the execution time of a single run of a statement.\n",
        "- **%timeit**: Runs the statement multiple times and provides an average execution time for more accurate results.\n",
        "\n",
        "**15. What is the difference between List and Tuple in Python?**\n",
        "- **List**: Mutable (can be changed), defined with `[]`.\n",
        "- **Tuple**: Immutable (cannot be changed), defined with `()`.\n",
        "\n",
        "**16. How do you access the last element of a list named ‘my_list’?**\n",
        "```python\n",
        "my_list = [55, 22, 3, \"biryani\", \"pulao\"]]\n",
        "my_list[-1]\n",
        "```\n",
        "\n",
        "**17. What do you mean by data type? Give examples.**  \n",
        "**A.** A data type defines the kind of value a variable can hold and what operations can be performed on it.\n",
        "- **int**: Integer values (e.g., `5`)\n",
        "- **float**: Decimal numbers (e.g., `3.14`)\n",
        "- **str**: Strings (e.g., `\"hello\"`)\n",
        "- **list**: Ordered collections (e.g., `[1, 2, 3]`)\n",
        "- **dict**: Key-value pairs (e.g., `{'name': 'Alice', 'age': 25}`)\n",
        "\n",
        "**18. What is the difference between an Array and Dictionary?**\n",
        "- **Array**: An ordered collection of items, typically of the same data type, accessed by numerical indices. Example: `[1, 2, 3]`.\n",
        "\n",
        "- **Dictionary**: An unordered collection of key-value pairs, where each key is unique and used to access its corresponding value. Example: `{'name': 'Alice', 'age': 25}`.\n",
        "\n",
        "**19. What is the difference between / and // in Python?**  \n",
        "- **/**: Performs floating-point (true) division, returning a float.  \n",
        "  Example: `5 / 2` results in `2.5`.\n",
        "\n",
        "- **//**: Performs floor division, returning the largest integer less than or equal to the result.  \n",
        "  Example: `5 // 2` results in `2`.\n",
        "\n",
        "**20. How do you define a function in Python? Write an example.**  \n",
        "**A.** To define a function in Python, `def` keyword is used followed by the function name and parentheses.\n",
        "```python\n",
        "def greet():\n",
        "    print(\"Ki khobor mama?!!\")\n",
        "```\n",
        "\n",
        "**21. How do you create a NumPy array named numbers from a list of integers [1, 2, 3, 4, 5, 6, 7, 8] and print the elements using slicing with the notation numbers[1::2]?**  \n",
        "**A.** First import the NumPy library, then use function.\n",
        "```python\n",
        "import numpy as np\n",
        "numbers = np.array([1, 2, 3, 4, 5, 6, 7, 8])\n",
        "print(numbers[1::2])\n",
        "#Output: [2 4 6 8]\n",
        "```\n",
        "**22. Explain split() and join() functions in Python?**\n",
        "- **split()**: This function splits a string into a list based on a specified delimiter (default is whitespace).\n",
        "```python\n",
        "sentence = \"Shunamoni Shunamoni bosho bosho\"\n",
        "words = sentence.split()\n",
        "```\n",
        "```\n",
        "#output\n",
        "['Shunamoni', 'Shunamoni', 'bosho', 'bosho']\n",
        "```\n",
        "- **join()**: This function concatenates a list of strings into a single string, using a specified delimiter.  \n",
        "```python\n",
        "words = ['Shunamoni', 'Shunamoni', 'bosho', 'bosho']\n",
        "sentence = \" \".join(words)\n",
        "```\n",
        "```\n",
        "#output\n",
        "'Shunamoni Shunamoni bosho bosho'\n",
        "```\n",
        "\n",
        "**23. How do you create a Python dictionary with the keys 'name', 'age', 'Course', and corresponding values 'Alice', 25, and 'PDS'?**\n",
        "```python\n",
        "student_info = {'name': 'Alice', 'age': 25, 'Course': 'PDS'}\n",
        "```\n",
        "\n",
        "**24. What is the difference between List and Tuple?**\n",
        "- **List**: Mutable (can be changed), defined with `[]`.\n",
        "- **Tuple**: Immutable (cannot be changed), defined with `()`.\n",
        "\n",
        "**25. How do you print the summation of all the numbers from 1 to 101?**\n",
        "``` python\n",
        "total = sum(range(1, 102))\n",
        "print(total)\n",
        "```\n",
        "\n",
        "**26. In Python, what is docstrings?**  \n",
        "**A.** In Python, **docstrings** are special comments used to describe the purpose and usage of functions, classes, or modules. They are written as a string literal right below the function or class definition and can be accessed via the `__doc__` attribute.\n",
        "```python\n",
        "def greet():\n",
        "  \"\"\"greet function will print a message\"\"\" <-- Docstring\n",
        "    print(\"Murrubbi Murrubbi uhmmm uhmmm!!\")\n",
        "```\n",
        "\n",
        "**27. What is the output of print(2 * 2 ** 5)?**\n",
        "```\n",
        "64\n",
        "```\n",
        "\n",
        "**28. How would you run a cell of code from a different file using IPython magic commands?**  \n",
        "**A.** Use the **`%run`** command followed by the filename to execute a code file in IPython.\n",
        "```python\n",
        "%run my_script.py\n",
        "```\n",
        "\n",
        "**29. What is the output of the following code?**   \n",
        "         print(bool(3!=4))  \n",
        "**A.** The output is `True`, because `3 != 4` is `True`.\n",
        "\n",
        "\n",
        "**30. How do you create a Dictionary in Python? Provide an example.**\n",
        "**A.** To create a dictionary in Python, use curly braces {} with key-value pairs separated by colons.\n",
        "```python\n",
        "st_dict = {'name': 'Jenifa', 'age': 24, 'Course': 'Cooking and Baking'}\n",
        "```\n",
        "\n",
        "**31. How do you create a Third Party function in Python?**  \n",
        "**A.** To create a third-party function in Python, you typically need to install an external library and then import it into your code.\n",
        "```bash\n",
        "# Install the library (if not already installed)\n",
        "pip install requests\n",
        "```\n",
        "```python\n",
        "# Import and use the third-party function\n",
        "import requests\n",
        "response = requests.get('https://catalog.data.gov/dataset/')\n",
        "print(response.csv())  # Prints the CSV response from the API\n",
        "```\n",
        "\n",
        "**32. Which one is Mutable - List or Tuple in Python?**  \n",
        "**A.** **List** is mutable; **Tuple** is immutable.\n",
        "\n",
        "**33. What does the %timeit magic command do in IPython?**  \n",
        "**A.** The `%timeit` magic command in IPython measures the execution time of a statement by running it multiple times and providing an average execution time for more accurate results.\n",
        "\n",
        "**34. What does the %timeit magic command do in IPython?**  \n",
        "**A.** The `%timeit` magic command in IPython measures the execution time of a statement by running it multiple times and providing an average execution time for more accurate results.\n",
        "\n",
        "**35. How do you create a NumPy array in Python? Give an example.**  \n",
        "```python\n",
        "import numpy as np\n",
        "numbers = np.array([1, 2, 3, 4, 5])\n",
        "```\n",
        "**36. Explain the difference between “is” and “==” in Python.**  \n",
        "- **`is`**: Checks if two variables refer to the same object in memory (identity comparison).\n",
        "\n",
        "- **`==`**: Checks if the values of two variables are equal (value comparison).\n",
        "\n",
        "**37. Explain the difference between mutable and immutable objects in Python.**  \n",
        "- **Mutable Objects:** These can be changed after their creation. You can modify, add, or remove elements. Examples include lists, dictionaries, and sets.\n",
        "\n",
        "- **Immutable Objects:** These cannot be changed once created. Any modification creates a new object instead. Examples include strings, tuples, and frozensets.\n",
        "\n",
        "**38. What is a function in Python, and why are functions used? Give an example.**  \n",
        "**A.** A **function** in Python is a block of reusable code that performs a specific task. Functions are used to organize code, avoid repetition, and improve readability and maintainability.\n",
        "```python\n",
        "def add(a, b):\n",
        "    return a + b\n",
        "result = add(3, 5)  # Calls the function and stores the result\n",
        "print(result)  # Output: 8\n",
        "```\n",
        "\n",
        "\n"
      ],
      "metadata": {
        "id": "KAhCx06uyyPv"
      }
    },
    {
      "cell_type": "markdown",
      "source": [
        "#MCQs\n"
      ],
      "metadata": {
        "id": "ZIUVa0mFKYYc"
      }
    },
    {
      "cell_type": "markdown",
      "source": [
        "1. a) list = [1, 2, 3]\n",
        "2. b) 8\n",
        "3. d) Tuple\n",
        "4. d) All\n",
        "5. b) def\n",
        "6. b) 4\n",
        "7. b) variable_1\n",
        "8. c) print(\"Hello World\")\n",
        "9. d) All of the above\n",
        "10. b) 2\n",
        "11. c) To do nothing and move to the next line of code\n",
        "12. c) if\n",
        "13. d) No output\n",
        "14. a) Terminates the loop\n",
        "15. c) #\n",
        "16. b) False\n",
        "17. a) input()\n",
        "18. b) 18\n",
        "19. d) real\n",
        "20. d) type(var)\n",
        "21. a) Measures the execution time of the code\n",
        "22. d) %lprun\n",
        "23. a) %memit\n",
        "24. a) np.array([1, 2, 3, 4])\n",
        "25. b) [2, 3]"
      ],
      "metadata": {
        "id": "tuSNLQXOKbgJ"
      }
    },
    {
      "cell_type": "markdown",
      "source": [
        "#Broad Questions"
      ],
      "metadata": {
        "id": "ZmPBwMr_POaW"
      }
    },
    {
      "cell_type": "markdown",
      "source": [
        "1. Write a Python program to find the factorial of a number using recursion."
      ],
      "metadata": {
        "id": "KNFQ53C0P0v9"
      }
    },
    {
      "cell_type": "code",
      "source": [
        "def factorial(n):\n",
        "    if n == 0 or n == 1:\n",
        "        return 1\n",
        "    else:\n",
        "        return n * factorial(n - 1)\n",
        "n = 7\n",
        "print(f\"The factorial of {n} is {factorial(n)}\")"
      ],
      "metadata": {
        "colab": {
          "base_uri": "https://localhost:8080/"
        },
        "id": "oYFEJtVHP85T",
        "outputId": "0047767d-9845-4fbe-b027-fef197b908b2"
      },
      "execution_count": null,
      "outputs": [
        {
          "output_type": "stream",
          "name": "stdout",
          "text": [
            "The factorial of 7 is 5040\n"
          ]
        }
      ]
    },
    {
      "cell_type": "markdown",
      "source": [
        "2. Write a Python program to find Anagram Check."
      ],
      "metadata": {
        "id": "UQApaAtnQMes"
      }
    },
    {
      "cell_type": "code",
      "source": [
        "def are_anagrams(str1, str2):\n",
        "    str1 = str1.replace(\" \", \"\").lower()\n",
        "    str2 = str2.replace(\" \", \"\").lower()\n",
        "\n",
        "    return sorted(str1) == sorted(str2)\n",
        "print(are_anagrams(\"Listen\", \"Silent\"))"
      ],
      "metadata": {
        "colab": {
          "base_uri": "https://localhost:8080/"
        },
        "id": "6cCm_jAoQPx2",
        "outputId": "fd32db26-5ada-4765-c199-c58afcd2eb7d"
      },
      "execution_count": null,
      "outputs": [
        {
          "output_type": "stream",
          "name": "stdout",
          "text": [
            "True\n"
          ]
        }
      ]
    },
    {
      "cell_type": "markdown",
      "source": [
        "3. Write a Python program using a for loop that:  \n",
        "i. Prints the multiplication table for a given number ‘n’.  \n",
        "ii. Calculates the factorial of a given number."
      ],
      "metadata": {
        "id": "ozI4cIRKStx-"
      }
    },
    {
      "cell_type": "code",
      "source": [
        "def multiplication_table(n):\n",
        "    for i in range(1, 11):\n",
        "        print(f\"{n} x {i} = {n * i}\")\n",
        "\n",
        "def factorial(n):\n",
        "    fact = 1\n",
        "    for i in range(1, n + 1):\n",
        "        fact *= i\n",
        "    return fact\n",
        "\n",
        "n = int(input(\"Enter a number: \"))\n",
        "multiplication_table(n)\n",
        "print(f\"\\nFactorial of {n} is {factorial(n)}\")"
      ],
      "metadata": {
        "colab": {
          "base_uri": "https://localhost:8080/"
        },
        "id": "C_FCONfwSw8E",
        "outputId": "2a523bd1-789e-465b-cb5e-f49c269ba2c3",
        "collapsed": true
      },
      "execution_count": null,
      "outputs": [
        {
          "output_type": "stream",
          "name": "stdout",
          "text": [
            "Enter a number: 5\n",
            "5 x 1 = 5\n",
            "5 x 2 = 10\n",
            "5 x 3 = 15\n",
            "5 x 4 = 20\n",
            "5 x 5 = 25\n",
            "5 x 6 = 30\n",
            "5 x 7 = 35\n",
            "5 x 8 = 40\n",
            "5 x 9 = 45\n",
            "5 x 10 = 50\n",
            "Factorial of 5 is 120\n"
          ]
        }
      ]
    },
    {
      "cell_type": "markdown",
      "source": [
        "4. You are given a list of positive integers containing all numbers from 1 to n except one missing value x. Write a Python program to find the missing value x in the list."
      ],
      "metadata": {
        "id": "DIueYGqTTbpR"
      }
    },
    {
      "cell_type": "code",
      "source": [
        "def missing_number(nums):\n",
        "    n = len(nums) + 1\n",
        "    return n * (n + 1) // 2 - sum(nums)\n",
        "\n",
        "nums = [1, 2, 4, 5, 6]\n",
        "print(f\"The missing number is: {missing_number(nums)}\")"
      ],
      "metadata": {
        "colab": {
          "base_uri": "https://localhost:8080/"
        },
        "id": "PUIqRUhcTenE",
        "outputId": "4b20436b-11e8-461b-cd07-6dd06b8319df"
      },
      "execution_count": null,
      "outputs": [
        {
          "output_type": "stream",
          "name": "stdout",
          "text": [
            "The missing number is: 3\n"
          ]
        }
      ]
    },
    {
      "cell_type": "markdown",
      "source": [
        "5. Write a Python program to Count Words in a Sentence."
      ],
      "metadata": {
        "id": "OL3zsX2SZYC5"
      }
    },
    {
      "cell_type": "code",
      "source": [
        "def count_words(sentence):\n",
        "    return len(sentence.split())\n",
        "\n",
        "sentence = input(\"Enter a sentence: \")\n",
        "print(\"Number of words:\", count_words(sentence))"
      ],
      "metadata": {
        "colab": {
          "base_uri": "https://localhost:8080/"
        },
        "id": "QKEY7kr6Z6kp",
        "outputId": "5745c762-a009-47ea-8f20-148067269e6f"
      },
      "execution_count": null,
      "outputs": [
        {
          "output_type": "stream",
          "name": "stdout",
          "text": [
            "Enter a sentence: Friday te presentation\n",
            "Number of words: 3\n"
          ]
        }
      ]
    },
    {
      "cell_type": "markdown",
      "source": [
        "6. i. Define a function check_odd_even(n) that takes n as input and checks if\n",
        "it is even or odd.  \n",
        "ii. Define a function fibonacci(n) that takes n as input and prints the n-th Fibonacci number."
      ],
      "metadata": {
        "id": "lEr-dazJagMJ"
      }
    },
    {
      "cell_type": "code",
      "source": [
        "#i) odd even\n",
        "def check_odd_even(n):\n",
        "    if n % 2 == 0:\n",
        "        print(f\"{n} is even\\n\")\n",
        "    else:\n",
        "        print(f\"{n} is odd\\n\")\n",
        "\n",
        "#ii) fibonacci\n",
        "def fibonacci(n):\n",
        "    a, b = 0, 1\n",
        "    for _ in range(n):\n",
        "        a, b = b, a + b\n",
        "    print(f\"The {n}-th Fibonacci number is: {a}\")\n",
        "\n",
        "check_odd_even(10)\n",
        "fibonacci(10)"
      ],
      "metadata": {
        "colab": {
          "base_uri": "https://localhost:8080/"
        },
        "id": "7eLfVOWraj6J",
        "outputId": "a990b509-bb63-4186-9cce-990a77cdb9f3"
      },
      "execution_count": null,
      "outputs": [
        {
          "output_type": "stream",
          "name": "stdout",
          "text": [
            "10 is even\n",
            "\n",
            "The 10-th Fibonacci number is: 55\n"
          ]
        }
      ]
    },
    {
      "cell_type": "markdown",
      "source": [
        "7. Write a program using the ternary operator where,  \n",
        "i. Given an age, determine the category of the age (i.e., child, teenager, adult).  \n",
        "ii. Check if a given number is positive, negative, or zero."
      ],
      "metadata": {
        "id": "q-VSNamcb8tY"
      }
    },
    {
      "cell_type": "code",
      "source": [
        "# i) Category\n",
        "age = int(input(\"Enter age: \"))\n",
        "category = \"child\" if age < 13 else \"teenager\" if age < 18 else \"adult\"\n",
        "print(f\"Category: {category}\\n\")\n",
        "\n",
        "# ii) Check number\n",
        "number = int(input(\"Enter a number: \"))\n",
        "status = \"positive\" if number > 0 else \"negative\" if number < 0 else \"zero\"\n",
        "print(f\"Number is: {status}\")\n"
      ],
      "metadata": {
        "colab": {
          "base_uri": "https://localhost:8080/"
        },
        "id": "mqGy54NgcFwo",
        "outputId": "9bf54efd-6554-4e41-c67e-8f90ab1ec490"
      },
      "execution_count": null,
      "outputs": [
        {
          "output_type": "stream",
          "name": "stdout",
          "text": [
            "Enter age: 23\n",
            "Category: adult\n",
            "\n",
            "Enter a number: 20\n",
            "Number is: positive\n"
          ]
        }
      ]
    },
    {
      "cell_type": "markdown",
      "source": [
        "8. Given a dictionary of product prices:  \n",
        "prices = { 'apple': 30, 'banana': 10, 'orange': 60, 'grape': 55, 'mango': 20}  \n",
        "Write a Python program to  \n",
        "i. Change the pricing of a product.  \n",
        "ii. Add a new product to the inventory with its price.  \n",
        "iii. Determine and print whether each product is \"Expensive\" or \"Affordable\"."
      ],
      "metadata": {
        "id": "5H9aCthIdUg0"
      }
    },
    {
      "cell_type": "code",
      "source": [
        "prices = {'apple': 30, 'banana': 10, 'orange': 60, 'grape': 55, 'mango': 20}\n",
        "\n",
        "# i. Change the pricing of a product\n",
        "prices['apple'] = 35\n",
        "\n",
        "# ii. Add a new product to the inventory with its price\n",
        "prices['kiwi'] = 50\n",
        "\n",
        "# iii. Determine if each product is \"Expensive\" or \"Affordable\"\n",
        "for product, price in prices.items():\n",
        "    status = \"Expensive\" if price > 40 else \"Affordable\"\n",
        "    print(f\"{product}: {status}\")\n"
      ],
      "metadata": {
        "colab": {
          "base_uri": "https://localhost:8080/"
        },
        "id": "Ot1BJIa7dndJ",
        "outputId": "8ae3eba7-083b-4b69-96b3-e074a48100c8"
      },
      "execution_count": null,
      "outputs": [
        {
          "output_type": "stream",
          "name": "stdout",
          "text": [
            "apple: Affordable\n",
            "banana: Affordable\n",
            "orange: Expensive\n",
            "grape: Expensive\n",
            "mango: Affordable\n",
            "strawberry: Expensive\n"
          ]
        }
      ]
    },
    {
      "cell_type": "markdown",
      "source": [
        "9. Write a Python program to check if a given number is a perfect number. A perfect number is a\n",
        "positive integer that is equal to the sum of its proper divisors (excluding itself)."
      ],
      "metadata": {
        "id": "8YrdEJYyenJu"
      }
    },
    {
      "cell_type": "code",
      "source": [
        "def is_perfect_number(n):\n",
        "    return sum(i for i in range(1, n) if n % i == 0) == n\n",
        "\n",
        "number = int(input(\"Enter a number: \"))\n",
        "print(f\"{number} is a perfect number.\"\n",
        "if is_perfect_number(number)\n",
        "else f\"{number} is not a perfect number.\")"
      ],
      "metadata": {
        "colab": {
          "base_uri": "https://localhost:8080/"
        },
        "id": "1P8euO70fFEC",
        "outputId": "5cac6b33-30b5-49fc-db97-80323f6a3b4e"
      },
      "execution_count": null,
      "outputs": [
        {
          "output_type": "stream",
          "name": "stdout",
          "text": [
            "Enter a number: 6\n",
            "6 is a perfect number.\n"
          ]
        }
      ]
    },
    {
      "cell_type": "markdown",
      "source": [
        "10. Write a Python program to find the maximum difference between two elements in a given list."
      ],
      "metadata": {
        "id": "BfpSdsh-hSRo"
      }
    },
    {
      "cell_type": "code",
      "source": [
        "def max_difference(nums):\n",
        "    return max(nums) - min(nums) if len(nums) >= 2 else \"List must have at least two elements.\"\n",
        "\n",
        "numbers = [23, 10, 6, 1, 8]\n",
        "print(\"The maximum difference is:\", max_difference(numbers))"
      ],
      "metadata": {
        "colab": {
          "base_uri": "https://localhost:8080/"
        },
        "id": "bBugQsRBhUQU",
        "outputId": "f817367b-a7c9-4e1c-af5c-dd9137491746"
      },
      "execution_count": null,
      "outputs": [
        {
          "output_type": "stream",
          "name": "stdout",
          "text": [
            "The maximum difference is: 22\n"
          ]
        }
      ]
    },
    {
      "cell_type": "markdown",
      "source": [
        "11. Write a Python program using list comprehension to create a new list that contains the squares of the numbers that are divisible by 3 but not by 5. Then, print the resulting list."
      ],
      "metadata": {
        "id": "t45tKi1uiAa-"
      }
    },
    {
      "cell_type": "code",
      "source": [
        "numbers = range(1, 31)\n",
        "\n",
        "squares = [x**2 for x in numbers if x % 3 == 0 and x % 5 != 0]\n",
        "\n",
        "print(\"Squares of numbers divisible by 3 but not by 5:\\n\", squares)"
      ],
      "metadata": {
        "colab": {
          "base_uri": "https://localhost:8080/"
        },
        "id": "-jzlNQu-iG_p",
        "outputId": "a2a16d30-0f8a-4b4e-d8c6-fda74fac9c3e"
      },
      "execution_count": null,
      "outputs": [
        {
          "output_type": "stream",
          "name": "stdout",
          "text": [
            "Squares of numbers divisible by 3 but not by 5:\n",
            " [9, 36, 81, 144, 324, 441, 576, 729]\n"
          ]
        }
      ]
    },
    {
      "cell_type": "markdown",
      "source": [
        "12. Write Python code for the following tasks:  \n",
        "i. Create a 3x3 NumPy array filled with random integers. Compute the mean of all the elements in the array and print it.  \n",
        "ii. Create a 2D NumPy array with shape (4,4). Split the array into 2 equal- sized horizontal slices."
      ],
      "metadata": {
        "id": "cTObQ2Lii4DZ"
      }
    },
    {
      "cell_type": "code",
      "source": [
        "import numpy as np\n",
        "\n",
        "# Task i: Create a 3x3 array of random integers and compute the mean\n",
        "array3 = np.random.randint(1, 100, size=(3, 3))\n",
        "mean_value = np.mean(array3)\n",
        "print(\"Mean of 3x3 array:\", mean_value)\n",
        "\n",
        "# Task ii: Create a 4x4 array and split it into 2 horizontal slices\n",
        "array4 = np.arange(1, 17).reshape(4, 4)\n",
        "slices = np.split(array4, 2)\n",
        "print(\"Horizontal slices:\\n\", slices)\n"
      ],
      "metadata": {
        "colab": {
          "base_uri": "https://localhost:8080/"
        },
        "id": "47TSEQovjE00",
        "outputId": "961dab51-9965-49a8-d786-141ab1838a91"
      },
      "execution_count": null,
      "outputs": [
        {
          "output_type": "stream",
          "name": "stdout",
          "text": [
            "Mean of 3x3 array: 54.333333333333336\n",
            "Horizontal slices:\n",
            " [array([[1, 2, 3, 4],\n",
            "       [5, 6, 7, 8]]), array([[ 9, 10, 11, 12],\n",
            "       [13, 14, 15, 16]])]\n"
          ]
        }
      ]
    },
    {
      "cell_type": "markdown",
      "source": [
        "13. Define a function factorial(n) that takes an integer n as input and returns the factorial of n."
      ],
      "metadata": {
        "id": "kis1zI4Qo-rh"
      }
    },
    {
      "cell_type": "code",
      "source": [
        "def factorial(n):\n",
        "    return 1 if n in (0, 1) else n * factorial(n - 1)\n",
        "\n",
        "n = int(input(\"Enter a number: \"))\n",
        "print(factorial(n))"
      ],
      "metadata": {
        "colab": {
          "base_uri": "https://localhost:8080/"
        },
        "id": "1L-T-uM3qmhL",
        "outputId": "be26450f-6b6d-4621-f949-62fd0b94a3bb"
      },
      "execution_count": null,
      "outputs": [
        {
          "output_type": "stream",
          "name": "stdout",
          "text": [
            "Enter a number: 5\n",
            "120\n"
          ]
        }
      ]
    },
    {
      "cell_type": "markdown",
      "source": [
        "14. You are provided with the following Python code that is supposed to compute the sum of all positive integers up to a given number n. However, the code has an error that prevents it from running correctly.\n",
        "``` python\n",
        "def sum_up_to(n):  \n",
        "  total = 0  \n",
        "  for i in range(n):  \n",
        "    total += i  \n",
        "return total\n",
        "print(sum_up_to(5))\n",
        "```\n",
        "Your task is to:  \n",
        "i. Use %xmode to display detailed error messages.  \n",
        "ii. Debug and correct the code accordingly.  \n",
        "iii. Provide a brief explanation of the error and your fix using Python Comments."
      ],
      "metadata": {
        "id": "UIQ0cxj2rc3F"
      }
    },
    {
      "cell_type": "code",
      "source": [
        "%xmode verbose"
      ],
      "metadata": {
        "colab": {
          "base_uri": "https://localhost:8080/"
        },
        "id": "KbHfohhpr6oQ",
        "outputId": "026844ab-1460-48ae-dae2-dada687bb8ed"
      },
      "execution_count": null,
      "outputs": [
        {
          "output_type": "stream",
          "name": "stdout",
          "text": [
            "Exception reporting mode: Verbose\n"
          ]
        }
      ]
    },
    {
      "cell_type": "code",
      "source": [
        "def sum_up_to(n):\n",
        "    total = 0\n",
        "    for i in range(1, n + 1):\n",
        "        total += i\n",
        "    return total\n",
        "\n",
        "print(sum_up_to(5))"
      ],
      "metadata": {
        "colab": {
          "base_uri": "https://localhost:8080/"
        },
        "id": "zP2kNQBssnjr",
        "outputId": "a0efee21-d43c-486e-81ee-eae72d0d0a8d"
      },
      "execution_count": null,
      "outputs": [
        {
          "output_type": "stream",
          "name": "stdout",
          "text": [
            "15\n"
          ]
        }
      ]
    },
    {
      "cell_type": "code",
      "source": [
        "# Explanation:\n",
        "# The original code used `range(n)`, which iterates from 0 to n-1,\n",
        "# resulting in the sum being calculated as 0 + 1 + 2 + 3 + 4.\n",
        "# To fix this, I changed `range(n)` to `range(1, n + 1)`, which\n",
        "# ensures that the loop starts at 1 and includes n in the sum."
      ],
      "metadata": {
        "id": "FnPB-XBZtDM5"
      },
      "execution_count": null,
      "outputs": []
    },
    {
      "cell_type": "markdown",
      "source": [
        "15. Write a Python function that generates a list of numbers from 1 to n (inclusive) and returns a new list where each number is replaced by its classification:  \n",
        "i. \"Even\" if the number is even.  \n",
        "ii. \"Odd\" if the number is odd.  \n",
        "iii. \"Multiple of 2\" if the number is a multiple of 2.  \n",
        "iv. \"Even and Multiple of 5\" if the number is both even and a multiple of 5."
      ],
      "metadata": {
        "id": "ThBy71ewtFPH"
      }
    },
    {
      "cell_type": "code",
      "source": [
        "def classify_numbers(n):\n",
        "    classifications = []\n",
        "    for i in range(1, n + 1):\n",
        "        if i % 2 == 0 and i % 5 == 0:\n",
        "            classifications.append(\"Even and Multiple of 5\")\n",
        "        elif i % 2 == 0:\n",
        "            classifications.append(\"Even\")\n",
        "        elif i % 2 == 1:\n",
        "            classifications.append(\"Odd\")\n",
        "        if i % 2 == 0:\n",
        "            classifications[-1] = \"Multiple of 2\"\n",
        "    return classifications\n",
        "\n",
        "n = 5\n",
        "result = classify_numbers(n)\n",
        "print(result)\n"
      ],
      "metadata": {
        "colab": {
          "base_uri": "https://localhost:8080/"
        },
        "id": "xZDSs85ttSPP",
        "outputId": "2fba778c-d387-47c6-bf33-01928d5c600f"
      },
      "execution_count": null,
      "outputs": [
        {
          "output_type": "stream",
          "name": "stdout",
          "text": [
            "['Odd', 'Multiple of 2', 'Odd', 'Multiple of 2', 'Odd']\n"
          ]
        }
      ]
    },
    {
      "cell_type": "markdown",
      "source": [
        "16. Write a Python function that performs the following operations on a given list of mixed\n",
        "data types:  \n",
        "i. Convert all elements of the list to strings.  \n",
        "ii. Convert the list into a tuple.  \n",
        "iii. Create a dictionary where the keys are the indices of the tuple elements and the values are the corresponding elements.  \n",
        "Instructions:  \n",
        "Implement the function to perform these tasks. Your function should return the list of\n",
        "strings, tuple and dictionary.  \n",
        "Test your function with a sample list: [1, 4.56, \"Python\",False]."
      ],
      "metadata": {
        "id": "AxqxCuRK1rtD"
      }
    },
    {
      "cell_type": "code",
      "source": [
        "def mixed_list(data):\n",
        "    # 1: Convert all elements to strings\n",
        "    string_list = [str(item) for item in data]\n",
        "\n",
        "    # 2: Convert the list to a tuple\n",
        "    data_tuple = tuple(string_list)\n",
        "\n",
        "    # 3: Create a dictionary with indices as keys and tuple elements as values\n",
        "    data_dict = {index: value for index, value in enumerate(data_tuple)} #enumaerate() to show index with value\n",
        "\n",
        "    # Return the list of strings, the tuple, and the dictionary\n",
        "    return string_list, data_tuple, data_dict\n",
        "\n",
        "sample_list = [1, 4.56, \"Python\", False]\n",
        "result = mixed_list(sample_list)\n",
        "print(\"List of Strings:\", result[0]) #diff result to show diff output, otherwise it will print the same\n",
        "print(\"\\nTuple:\", result[1])\n",
        "print(\"\\nDictionary:\", result[2])\n"
      ],
      "metadata": {
        "colab": {
          "base_uri": "https://localhost:8080/"
        },
        "id": "Vi6tv5Ym2_Ss",
        "outputId": "192e6789-4a8e-4837-a94b-5fde747400af"
      },
      "execution_count": null,
      "outputs": [
        {
          "output_type": "stream",
          "name": "stdout",
          "text": [
            "List of Strings: ['1', '4.56', 'Python', 'False']\n",
            "\n",
            "Tuple: ('1', '4.56', 'Python', 'False')\n",
            "\n",
            "Dictionary: {0: '1', 1: '4.56', 2: 'Python', 3: 'False'}\n"
          ]
        }
      ]
    },
    {
      "cell_type": "markdown",
      "source": [
        "17. Write Python code for the following tasks:  \n",
        "i. Create a 4x5 array filled with 'Python'.  \n",
        "ii. Create a 3x3 array of random integers in the interval [5, 10).  \n",
        "iii. You have a 4x3 NumPy array. Use the reshape method to change its shape to 3x4.  \n",
        "iv. Create a 2D NumPy array with shape (3, 3). Split this array into 2 equal-sized vertical slices.  \n",
        "v. Given two NumPy arrays, a = np.array([4, 5, 6]) and b = np.array([7,8,9]), perform the following operations and provide the results:  \n",
        "Element-wise: addition of a and b, subtraction of a from b, multiplication of a and b and division of b by a."
      ],
      "metadata": {
        "id": "YYbM2LuMUrYs"
      }
    },
    {
      "cell_type": "code",
      "source": [
        "import numpy as np\n",
        "\n",
        "# i: 4x5 array filled with 'Python'\n",
        "array_python = np.full((4, 5), 'Python')\n",
        "print(\"i) 4x5 Array filled with 'Python':\\n\", array_python)\n",
        "\n",
        "# ii: 3x3 array of random integers in the interval (5, 10)\n",
        "array_random = np.random.randint(5, 10, (3, 3))\n",
        "print(\"\\n ii) 3x3 Array of random integers in (5, 10):\\n\", array_random)\n",
        "\n",
        "# iii: Reshaping a 4x3 array to 3x4\n",
        "array_reshape = np.arange(12).reshape(4, 3)\n",
        "new_array = array_reshape.reshape(3, 4)\n",
        "print(\"\\n iii) Reshaped 4x3 Array to 3x4:\\n\", new_array)\n",
        "\n",
        "# iv: Split a 3x3 array into 2 equal-sized vertical slices\n",
        "array_split = np.arange(1, 10).reshape(3, 3)\n",
        "vertical_slices = np.hsplit(array_split, 3)\n",
        "print(\"\\n iv) Vertical slices of 3x3 Array:\\n\", vertical_slices)\n",
        "\n",
        "# v: Perform element-wise operations on arrays a and b\n",
        "a = np.array([4, 5, 6])\n",
        "b = np.array([7, 8, 9])\n",
        "addition = a + b\n",
        "subtraction = b - a\n",
        "multiplication = a * b\n",
        "division = b / a\n",
        "\n",
        "print(\"v) \\nElement-wise Addition:\", addition)\n",
        "print(\"Element-wise Subtraction:\", subtraction)\n",
        "print(\"Element-wise Multiplication:\", multiplication)\n",
        "print(\"Element-wise Division:\", division)\n"
      ],
      "metadata": {
        "colab": {
          "base_uri": "https://localhost:8080/"
        },
        "id": "Q7yMSM31VhMc",
        "outputId": "601e6335-9598-4096-9016-c323add6818c",
        "collapsed": true
      },
      "execution_count": null,
      "outputs": [
        {
          "output_type": "stream",
          "name": "stdout",
          "text": [
            "i) 4x5 Array filled with 'Python':\n",
            " [['Python' 'Python' 'Python' 'Python' 'Python']\n",
            " ['Python' 'Python' 'Python' 'Python' 'Python']\n",
            " ['Python' 'Python' 'Python' 'Python' 'Python']\n",
            " ['Python' 'Python' 'Python' 'Python' 'Python']]\n",
            "\n",
            " ii) 3x3 Array of random integers in (5, 10):\n",
            " [[9 9 7]\n",
            " [9 7 8]\n",
            " [5 9 7]]\n",
            "\n",
            " iii) Reshaped 4x3 Array to 3x4:\n",
            " [[ 0  1  2  3]\n",
            " [ 4  5  6  7]\n",
            " [ 8  9 10 11]]\n",
            "\n",
            " iv) Vertical slices of 3x3 Array:\n",
            " [array([[1],\n",
            "       [4],\n",
            "       [7]]), array([[2],\n",
            "       [5],\n",
            "       [8]]), array([[3],\n",
            "       [6],\n",
            "       [9]])]\n",
            "v) \n",
            "Element-wise Addition: [11 13 15]\n",
            "Element-wise Subtraction: [3 3 3]\n",
            "Element-wise Multiplication: [28 40 54]\n",
            "Element-wise Division: [1.75 1.6  1.5 ]\n"
          ]
        }
      ]
    },
    {
      "cell_type": "markdown",
      "source": [
        "18. Given the following NumPy array:  \n",
        "```\n",
        "arr = np.array([[3, 2, 4, 1],\n",
        "[6, 8, 5, 7],\n",
        "[11, 10, 12, 9]])\n",
        "```\n",
        "Perform the following tasks:  \n",
        "i. Create a boolean mask to identify elements greater than 6. Use this mask to extract the elements from the array.  \n",
        "ii. Extract the second and third rows from the array using fancy indexing.  \n",
        "iii. Sort the entire array along the rows and print the sorted array."
      ],
      "metadata": {
        "id": "dp903690X-Kh"
      }
    },
    {
      "cell_type": "code",
      "source": [
        "import numpy as np\n",
        "\n",
        "arr = np.array([[3, 2, 4, 1],\n",
        "                [6, 8, 5, 7],\n",
        "                [11, 10, 12, 9]])\n",
        "\n",
        "# i: boolean mask to identify elements greater than 6\n",
        "mask = arr > 6\n",
        "elements = arr[mask]\n",
        "print(\"Elements greater than 6:\", elements)\n",
        "\n",
        "# ii: Extract the second and third rows using fancy indexing\n",
        "rows_extracted = arr[[1, 2]]  # Fancy indexing\n",
        "print(\"\\nSecond and Third Rows:\\n\", rows_extracted)\n",
        "\n",
        "# iii: Sort the entire array along the rows and print the sorted array\n",
        "sorted_array = np.sort(arr, axis=1)  # Sort along rows\n",
        "print(\"\\nSorted Array:\\n\", sorted_array)"
      ],
      "metadata": {
        "colab": {
          "base_uri": "https://localhost:8080/"
        },
        "id": "yjhWIbBEYOf2",
        "outputId": "4ef4e992-957b-400b-a5bd-60e84cc77862",
        "collapsed": true
      },
      "execution_count": null,
      "outputs": [
        {
          "output_type": "stream",
          "name": "stdout",
          "text": [
            "Elements greater than 6: [ 8  7 11 10 12  9]\n",
            "\n",
            "Second and Third Rows:\n",
            " [[ 6  8  5  7]\n",
            " [11 10 12  9]]\n",
            "\n",
            "Sorted Array:\n",
            " [[ 1  2  3  4]\n",
            " [ 5  6  7  8]\n",
            " [ 9 10 11 12]]\n"
          ]
        }
      ]
    },
    {
      "cell_type": "markdown",
      "source": [
        "19. i. Write a program that will take user input of cost price and selling price and determine whether its a loss or a profit.  \n",
        "ii. Write a program that will check whether the number is an Armstrong number or not. *(The user will provide the integer input)*"
      ],
      "metadata": {
        "id": "0SThzub4ZOg3"
      }
    },
    {
      "cell_type": "code",
      "source": [
        "#1\n",
        "def calculate_profit_loss(cost_price, selling_price):\n",
        "    if selling_price > cost_price:\n",
        "        return f\"Profit: {selling_price - cost_price}\"\n",
        "    elif selling_price < cost_price:\n",
        "        return f\"Loss: {cost_price - selling_price}\"\n",
        "    return \"No Profit, No Loss\"\n",
        "\n",
        "cost_price = float(input(\"Enter the cost price: \"))\n",
        "selling_price = float(input(\"Enter the selling price: \"))\n",
        "result = calculate_profit_loss(cost_price, selling_price)\n",
        "print(result)"
      ],
      "metadata": {
        "colab": {
          "base_uri": "https://localhost:8080/"
        },
        "id": "CqQGpohgZg5m",
        "outputId": "2837ce05-a393-486e-ae31-8ac0b5bf3004"
      },
      "execution_count": null,
      "outputs": [
        {
          "output_type": "stream",
          "name": "stdout",
          "text": [
            "Enter the cost price: 55\n",
            "Enter the selling price: 55\n",
            "No Profit, No Loss\n"
          ]
        }
      ]
    },
    {
      "cell_type": "code",
      "source": [
        "#2\n",
        "def is_armstrong_number(num):\n",
        "    power = len(str(num))\n",
        "    return sum(int(digit) ** power for digit in str(num)) == num\n",
        "\n",
        "number = int(input(\"Enter an integer: \"))\n",
        "print(f\"{number} is an Armstrong number.\" if is_armstrong_number(number) else f\"{number} is not an Armstrong number.\")"
      ],
      "metadata": {
        "colab": {
          "base_uri": "https://localhost:8080/"
        },
        "id": "gpKs__Tdaha0",
        "outputId": "50aad1a6-0acc-407d-bfce-519508d5f8bd"
      },
      "execution_count": null,
      "outputs": [
        {
          "output_type": "stream",
          "name": "stdout",
          "text": [
            "Enter an integer: 155\n",
            "155 is not an Armstrong number.\n"
          ]
        }
      ]
    },
    {
      "cell_type": "markdown",
      "source": [
        "20. i. Write a loop in Python that prints the numbers from 1 to 100.  \n",
        "ii. How do you create a List in Python? Provide an example."
      ],
      "metadata": {
        "id": "S6rpZqLTb7yb"
      }
    },
    {
      "cell_type": "code",
      "source": [
        "#1\n",
        "for num in range(1, 101):\n",
        "    print(num)"
      ],
      "metadata": {
        "id": "Ho7_JnAoexZO"
      },
      "execution_count": null,
      "outputs": []
    },
    {
      "cell_type": "code",
      "source": [
        "#2\n",
        "meals = [\"biryani\", \"shawarma\", \"kabsa\", \"shawaya\"]\n",
        "meals"
      ],
      "metadata": {
        "colab": {
          "base_uri": "https://localhost:8080/"
        },
        "id": "A16SAvWQe9WX",
        "outputId": "7a373b3d-8ac3-498a-9085-4673f10d7c38"
      },
      "execution_count": null,
      "outputs": [
        {
          "output_type": "execute_result",
          "data": {
            "text/plain": [
              "['biryani', 'shawarma', 'kabsa', 'shawaya']"
            ]
          },
          "metadata": {},
          "execution_count": 20
        }
      ]
    },
    {
      "cell_type": "markdown",
      "source": [
        "21. Write a Python function that performs the following operations on a given list of integers:  \n",
        "i. Remove all duplicate elements from the list while preserving the order of the first occurrence of each element.  \n",
        "ii. Sort the remaining elements in ascending order.  \n",
        "iii. Create a new list where each element is the square of the elements from the sorted list."
      ],
      "metadata": {
        "id": "y9vIAMrZfUpY"
      }
    },
    {
      "cell_type": "code",
      "source": [
        "def process_list(numbers):\n",
        "    unique_numbers = []\n",
        "    for num in numbers:\n",
        "        if num not in unique_numbers:\n",
        "            unique_numbers.append(num)\n",
        "\n",
        "    # Sort the numbers\n",
        "    unique_numbers.sort()\n",
        "\n",
        "    # new list with squares of the sorted numbers\n",
        "    squared_numbers = [num ** 2 for num in unique_numbers]\n",
        "    return squared_numbers\n",
        "\n",
        "numbers = [4, 2, 5, 2, 3, 4, 1, 3, 10]\n",
        "result = process_list(numbers)\n",
        "print(\"Squared Numbers:\", result)"
      ],
      "metadata": {
        "colab": {
          "base_uri": "https://localhost:8080/"
        },
        "id": "uo1lHxyyCnkk",
        "outputId": "0719556c-16ec-4627-829a-b1c0932be0ae"
      },
      "execution_count": null,
      "outputs": [
        {
          "output_type": "stream",
          "name": "stdout",
          "text": [
            "Squared Numbers: [1, 4, 9, 16, 25, 100]\n"
          ]
        }
      ]
    },
    {
      "cell_type": "markdown",
      "source": [
        "22. Write a function “min_max_range” that performs the following operations on a 2D NumPy array:  \n",
        "i. Find the minimum and maximum values in the entire array.   \n",
        "ii. Find the minimum and maximum values for each row.  \n",
        "iii. difference between maximum and minimum values for each row."
      ],
      "metadata": {
        "id": "zmlBFn43DwU1"
      }
    },
    {
      "cell_type": "code",
      "source": [
        "import numpy as np\n",
        "\n",
        "def min_max_range(arr):\n",
        "    # minimum and maximum values in the entire array\n",
        "    overall_min = np.min(arr)\n",
        "    overall_max = np.max(arr)\n",
        "\n",
        "    # minimum and maximum values for each row\n",
        "    row_min = np.min(arr, axis=1)\n",
        "    row_max = np.max(arr, axis=1)\n",
        "\n",
        "    # difference between maximum and minimum values for each row\n",
        "    row_difference = row_max - row_min\n",
        "    return overall_min, overall_max, row_min, row_max, row_difference\n",
        "\n",
        "arr = np.array([[3, 5, 1], [7, 2, 8], [4, 9, 6]])\n",
        "overall_min, overall_max, row_min, row_max, row_difference = min_max_range(arr)\n",
        "\n",
        "print(\"Overall Min:\", overall_min)\n",
        "print(\"Overall Max:\", overall_max)\n",
        "print(\"Row-wise Min:\", row_min)\n",
        "print(\"Row-wise Max:\", row_max)\n",
        "print(\"Row-wise Difference:\", row_difference)"
      ],
      "metadata": {
        "colab": {
          "base_uri": "https://localhost:8080/"
        },
        "id": "oz69TdMMD7w1",
        "outputId": "17161992-56f8-4aa3-8286-0046b6b03551"
      },
      "execution_count": null,
      "outputs": [
        {
          "output_type": "stream",
          "name": "stdout",
          "text": [
            "Overall Min: 1\n",
            "Overall Max: 9\n",
            "Row-wise Min: [1 2 4]\n",
            "Row-wise Max: [5 8 9]\n",
            "Row-wise Difference: [4 6 5]\n"
          ]
        }
      ]
    },
    {
      "cell_type": "markdown",
      "source": [
        "23. You are given a 2D NumPy array. Write a function “simple_indexing” that:  \n",
        "i. Extracts the element at position (0, 0) from the array.  \n",
        "ii. Extracts the entire second row of the array.  \n",
        "iii. Extracts the first two elements from the second row of the array"
      ],
      "metadata": {
        "id": "mHVUKNpHEtLk"
      }
    },
    {
      "cell_type": "code",
      "source": [
        "import numpy as np\n",
        "\n",
        "def simple_indexing(array):\n",
        "    element = array[0, 0]\n",
        "\n",
        "    second_row = array[1]\n",
        "\n",
        "    # Extract the first two elements from the second row\n",
        "    element2 = array[1, :2]\n",
        "\n",
        "    return element, second_row, element2\n",
        "\n",
        "# Example Usage\n",
        "array = np.array([[3, 5, 7], [9, 11, 13], [15, 17, 19]])\n",
        "result = simple_indexing(array)\n",
        "\n",
        "print(\"Element at (0, 0):\", result[0])\n",
        "print(\"Entire second row:\", result[1])\n",
        "print(\"First two elements of second row:\", result[2])\n"
      ],
      "metadata": {
        "colab": {
          "base_uri": "https://localhost:8080/"
        },
        "id": "JUtkA5e3EyLH",
        "outputId": "c73981b7-27ef-494e-da37-62e2458a1ad8"
      },
      "execution_count": null,
      "outputs": [
        {
          "output_type": "stream",
          "name": "stdout",
          "text": [
            "Element at (0, 0): 3\n",
            "Entire second row: [ 9 11 13]\n",
            "First two elements of second row: [ 9 11]\n"
          ]
        }
      ]
    },
    {
      "cell_type": "markdown",
      "source": [
        "24. You are given a list of integers. Write a Python function process_list that performs the following operations:  \n",
        "i. Remove all duplicate integers from the list.  \n",
        "ii. Sort the remaining integers in ascending order.  \n",
        "iii. Replace each integer with its square."
      ],
      "metadata": {
        "id": "yvs7UFqaFc4B"
      }
    },
    {
      "cell_type": "code",
      "source": [
        "def process_list(numbers):\n",
        "    # Remove duplicates using set and sort the unique elements\n",
        "    num_sort = sorted(set(numbers))\n",
        "\n",
        "    # Replace each integer with its square\n",
        "    squared_list = [num ** 2 for num in num_sort]\n",
        "\n",
        "    return squared_list\n",
        "\n",
        "numbers = [44, 12, 92, 3, 1, 4, 5, 10, 2, 0, 1]\n",
        "result = process_list(numbers)\n",
        "print(\"Processed List:\", result)"
      ],
      "metadata": {
        "colab": {
          "base_uri": "https://localhost:8080/"
        },
        "id": "FpL0o0o_FrsQ",
        "outputId": "331c8afa-de97-4eb1-d880-64c98424ba5c"
      },
      "execution_count": null,
      "outputs": [
        {
          "output_type": "stream",
          "name": "stdout",
          "text": [
            "Processed List: [0, 1, 4, 9, 16, 25, 100, 144, 1936, 8464]\n"
          ]
        }
      ]
    },
    {
      "cell_type": "markdown",
      "source": [
        "25. Write a Python program that asks the user(students) for their name, Id and age, then prints a greeting message."
      ],
      "metadata": {
        "id": "ysX2Cn22G8dJ"
      }
    },
    {
      "cell_type": "code",
      "source": [
        "name = input(\"Enter your name: \")\n",
        "student_id = input(\"Enter your ID: \")\n",
        "age = input(\"Enter your age: \")\n",
        "\n",
        "print(f\"\\nHi, {name}! Tumar ID {student_id}, ar tumar boyosh {age} bosor. Joldi b1iya kore felo. Eto shomoy nai!!\")"
      ],
      "metadata": {
        "colab": {
          "base_uri": "https://localhost:8080/"
        },
        "id": "xohj-I2PHBgo",
        "outputId": "28f41f41-642a-4849-e5df-0eed161b6df0"
      },
      "execution_count": null,
      "outputs": [
        {
          "output_type": "stream",
          "name": "stdout",
          "text": [
            "Enter your name: Joy\n",
            "Enter your ID: 080\n",
            "Enter your age: 23\n",
            "\n",
            "Hi, Joy! Tumar ID 080, ar tumar boyosh 23 bosor. Joldi b1iya kore felo. Eto shomoy nai!!\n"
          ]
        }
      ]
    },
    {
      "cell_type": "markdown",
      "source": [
        "26. Write a loop in Python that prints the even numbers from 10 to 100."
      ],
      "metadata": {
        "id": "IIbjIqMi3zBm"
      }
    },
    {
      "cell_type": "code",
      "source": [
        "for number in range(10, 101, 2):\n",
        "    print(number)"
      ],
      "metadata": {
        "colab": {
          "base_uri": "https://localhost:8080/"
        },
        "id": "zaPbkBzM3z61",
        "outputId": "66d9c057-c958-411b-c6b6-59161741b9da"
      },
      "execution_count": null,
      "outputs": [
        {
          "output_type": "stream",
          "name": "stdout",
          "text": [
            "10\n",
            "12\n",
            "14\n",
            "16\n",
            "18\n",
            "20\n",
            "22\n",
            "24\n",
            "26\n",
            "28\n",
            "30\n",
            "32\n",
            "34\n",
            "36\n",
            "38\n",
            "40\n",
            "42\n",
            "44\n",
            "46\n",
            "48\n",
            "50\n",
            "52\n",
            "54\n",
            "56\n",
            "58\n",
            "60\n",
            "62\n",
            "64\n",
            "66\n",
            "68\n",
            "70\n",
            "72\n",
            "74\n",
            "76\n",
            "78\n",
            "80\n",
            "82\n",
            "84\n",
            "86\n",
            "88\n",
            "90\n",
            "92\n",
            "94\n",
            "96\n",
            "98\n",
            "100\n"
          ]
        }
      ]
    },
    {
      "cell_type": "markdown",
      "source": [
        "27. Write a Python program to calculate the length of a given string."
      ],
      "metadata": {
        "id": "R12acxxH4Bze"
      }
    },
    {
      "cell_type": "code",
      "source": [
        "string = input(\"Enter a string: \")\n",
        "print(\"The length of the string is:\", len(string))"
      ],
      "metadata": {
        "colab": {
          "base_uri": "https://localhost:8080/"
        },
        "id": "p7BzQlL042nW",
        "outputId": "0c57b193-1e38-4c51-9900-b3477ba94750"
      },
      "execution_count": null,
      "outputs": [
        {
          "output_type": "stream",
          "name": "stdout",
          "text": [
            "Enter a string: joy\n",
            "The length of the string is: 3\n"
          ]
        }
      ]
    },
    {
      "cell_type": "markdown",
      "source": [
        "28. Write a python program to calculate the sum of digits of a given number."
      ],
      "metadata": {
        "id": "KpBhBifO5R4-"
      }
    },
    {
      "cell_type": "code",
      "source": [
        "number = int(input(\"Enter a number: \"))\n",
        "\n",
        "sum_of_digits = 0\n",
        "\n",
        "while number > 0:\n",
        "    digit = number % 10\n",
        "    sum_of_digits += digit\n",
        "    number //= 10\n",
        "print(\"The sum of the digits is:\", sum_of_digits)"
      ],
      "metadata": {
        "colab": {
          "base_uri": "https://localhost:8080/"
        },
        "id": "na9IABDL5Wyt",
        "outputId": "1ea6be92-99bd-4f0d-e4a0-132b7221a47b"
      },
      "execution_count": null,
      "outputs": [
        {
          "output_type": "stream",
          "name": "stdout",
          "text": [
            "Enter a number: 123\n",
            "The sum of the digits is: 6\n"
          ]
        }
      ]
    },
    {
      "cell_type": "markdown",
      "source": [
        "30. Write a program that can create a new list from a given list where each item in the new list is square of the item of the old list."
      ],
      "metadata": {
        "id": "hzMUqaCu6rpu"
      }
    },
    {
      "cell_type": "code",
      "source": [
        "def square_list(old_list):\n",
        "    new_list = [item ** 2 for item in old_list]\n",
        "    return new_list\n",
        "\n",
        "old_list = [1, 2, 3, 4, 5]\n",
        "print(\"Old List:\", old_list)\n",
        "print(\"New List:\", square_list(old_list))"
      ],
      "metadata": {
        "colab": {
          "base_uri": "https://localhost:8080/"
        },
        "id": "OlnGzQl36wJ1",
        "outputId": "43fbf9ed-e0d2-4d63-c37e-774687abbe55"
      },
      "execution_count": null,
      "outputs": [
        {
          "output_type": "stream",
          "name": "stdout",
          "text": [
            "Old List: [1, 2, 3, 4, 5]\n",
            "New List: [1, 4, 9, 16, 25]\n"
          ]
        }
      ]
    },
    {
      "cell_type": "markdown",
      "source": [
        "31. Write a python program that uses a for loop to iterate over a range of numbers. Start from 10 and decrease by 3 each time until you reach a number less than 0. For each number in the range, print whether it is a positive number or not."
      ],
      "metadata": {
        "id": "I2qO5qtv71Ou"
      }
    },
    {
      "cell_type": "code",
      "source": [
        "def iterate_numbers():\n",
        "    for num in range(10, -1, -3):\n",
        "        if num > 0:\n",
        "            print(f\"{num} is a positive number\")\n",
        "        else:\n",
        "            print(f\"{num} is not a positive number\")\n",
        "\n",
        "# Run the function\n",
        "iterate_numbers()"
      ],
      "metadata": {
        "colab": {
          "base_uri": "https://localhost:8080/"
        },
        "id": "fMNhCbwf8MOc",
        "outputId": "a80076a2-8635-40c0-c418-c8f74262cf5d"
      },
      "execution_count": null,
      "outputs": [
        {
          "output_type": "stream",
          "name": "stdout",
          "text": [
            "10 is a positive number\n",
            "7 is a positive number\n",
            "4 is a positive number\n",
            "1 is a positive number\n"
          ]
        }
      ]
    },
    {
      "cell_type": "markdown",
      "source": [
        "32. Write a python program to print the following pattern.  \n",
        "1  \n",
        "1 1  \n",
        "1 1 1  \n",
        "1 1 1 1  \n",
        "1 1 1 1 1  "
      ],
      "metadata": {
        "id": "8d0IcpXy8eeF"
      }
    },
    {
      "cell_type": "code",
      "source": [
        "def print_pattern():\n",
        "    for i in range(1, 6):\n",
        "        print(\"1 \" * i)\n",
        "\n",
        "print_pattern()"
      ],
      "metadata": {
        "colab": {
          "base_uri": "https://localhost:8080/"
        },
        "id": "jR0FM5Py8lUF",
        "outputId": "6e2851a1-02e6-46d3-a892-a5329aee836a"
      },
      "execution_count": null,
      "outputs": [
        {
          "output_type": "stream",
          "name": "stdout",
          "text": [
            "1 \n",
            "1 1 \n",
            "1 1 1 \n",
            "1 1 1 1 \n",
            "1 1 1 1 1 \n"
          ]
        }
      ]
    },
    {
      "cell_type": "markdown",
      "source": [
        "33. Write a Python program that accepts user inputs."
      ],
      "metadata": {
        "id": "iEJYbPyx89ic"
      }
    },
    {
      "cell_type": "code",
      "source": [
        "name = input(\"Enter your name: \")\n",
        "age = input(\"Enter your age: \")\n",
        "\n",
        "print(f\"Ay, {name}! Tumar {age} boyosh hoye gese. Ekhono biya koro nai???\")"
      ],
      "metadata": {
        "colab": {
          "base_uri": "https://localhost:8080/"
        },
        "id": "MTU75xSR9CVN",
        "outputId": "54893cfd-ed24-45a9-f05b-0aa9d84d70bc"
      },
      "execution_count": null,
      "outputs": [
        {
          "output_type": "stream",
          "name": "stdout",
          "text": [
            "Enter your name: Joy\n",
            "Enter your age: 23\n",
            "Ay, Joy! Tumar 23 boyosh hoye gese. Ekhono biya koro nai???\n"
          ]
        }
      ]
    },
    {
      "cell_type": "markdown",
      "source": [
        "34. Write a loop in Python that prints only the even numbers from 1 to 10."
      ],
      "metadata": {
        "id": "JGfsCivi9yfW"
      }
    },
    {
      "cell_type": "code",
      "source": [
        "for number in range(1, 11):\n",
        "    if number % 2 == 0:\n",
        "        print(number)"
      ],
      "metadata": {
        "colab": {
          "base_uri": "https://localhost:8080/"
        },
        "id": "yWAMfM3Y91PW",
        "outputId": "7f443d92-92e2-4f71-d5de-437f7a6d1f39"
      },
      "execution_count": null,
      "outputs": [
        {
          "output_type": "stream",
          "name": "stdout",
          "text": [
            "2\n",
            "4\n",
            "6\n",
            "8\n",
            "10\n"
          ]
        }
      ]
    },
    {
      "cell_type": "markdown",
      "source": [],
      "metadata": {
        "id": "2yPvO41c98bN"
      }
    },
    {
      "cell_type": "markdown",
      "source": [
        "35. Write a Python function to calculate the average of two integers."
      ],
      "metadata": {
        "id": "cYUKwtYebwEp"
      }
    },
    {
      "cell_type": "code",
      "source": [
        "def calculate_average(a, b):\n",
        "    return (a + b) / 2\n",
        "\n",
        "num1 = int(input(\"Enter the first integer: \"))\n",
        "num2 = int(input(\"Enter the second integer: \"))\n",
        "average = calculate_average(num1, num2)\n",
        "print(\"The average is:   \", average)"
      ],
      "metadata": {
        "colab": {
          "base_uri": "https://localhost:8080/"
        },
        "id": "PBSUaQHPbyVV",
        "outputId": "968f4e75-ed2e-4b22-b0b0-1987d0027930"
      },
      "execution_count": null,
      "outputs": [
        {
          "output_type": "stream",
          "name": "stdout",
          "text": [
            "Enter the first integer: 50\n",
            "Enter the second integer: 50\n",
            "The average is:    50.0\n"
          ]
        }
      ]
    },
    {
      "cell_type": "markdown",
      "source": [
        "36. Write a Python program that keeps on accepting a number from the user until the user enters ‘-1. Display the sum and average of all the numbers."
      ],
      "metadata": {
        "id": "_Q-GhnvnePet"
      }
    },
    {
      "cell_type": "code",
      "source": [
        "def sum_and_average():\n",
        "    total = 0\n",
        "    count = 0\n",
        "\n",
        "    while True:\n",
        "        number = int(input(\"Enter a number: \"))\n",
        "        if number == -1:\n",
        "            break\n",
        "        total += number\n",
        "        count += 1\n",
        "\n",
        "    if count > 0:\n",
        "        average = total / count\n",
        "        print(\"Sum of all numbers:\", total)\n",
        "        print(\"Average of all numbers:\", average)\n",
        "    else:\n",
        "        print(\"No numbers were entered.\")\n",
        "\n",
        "sum_and_average()\n"
      ],
      "metadata": {
        "colab": {
          "base_uri": "https://localhost:8080/"
        },
        "id": "fMS6jJq9e46M",
        "outputId": "0d11d7fa-46f7-4b20-c2ae-9431fce64ebc"
      },
      "execution_count": null,
      "outputs": [
        {
          "output_type": "stream",
          "name": "stdout",
          "text": [
            "Enter a number: 5\n",
            "Enter a number: 10\n",
            "Enter a number: -1\n",
            "Sum of all numbers: 15\n",
            "Average of all numbers: 7.5\n"
          ]
        }
      ]
    },
    {
      "cell_type": "markdown",
      "source": [
        "37. Write a Python program that reverses a given list without using the built-in reverse() method. Print the reversed list."
      ],
      "metadata": {
        "id": "4Yh0vWipf_xn"
      }
    },
    {
      "cell_type": "code",
      "source": [
        "def reverse_list(lst):\n",
        "    reversed_list = []\n",
        "    for i in range(len(lst) - 1, -1, -1):\n",
        "        reversed_list.append(lst[i])\n",
        "    return reversed_list\n",
        "\n",
        "sample_list = [1, 2, 3, 4, 5]\n",
        "reversed_list = reverse_list(sample_list)\n",
        "print(\"Reversed List:\", reversed_list)"
      ],
      "metadata": {
        "colab": {
          "base_uri": "https://localhost:8080/"
        },
        "id": "GnefHqItgBij",
        "outputId": "1bdcca24-911d-4709-c662-3cf1dd0d3e6c"
      },
      "execution_count": null,
      "outputs": [
        {
          "output_type": "stream",
          "name": "stdout",
          "text": [
            "Reversed List: [5, 4, 3, 2, 1]\n"
          ]
        }
      ]
    },
    {
      "cell_type": "markdown",
      "source": [
        "38. Write a Python program that finds and prints the common elements between two lists."
      ],
      "metadata": {
        "id": "4LHY3qiAgWSl"
      }
    },
    {
      "cell_type": "code",
      "source": [
        "def find_elements(list1, list2):\n",
        "    common_elements = [element for element in list1 if element in list2]\n",
        "    return common_elements\n",
        "\n",
        "list1 = ['Hi', 2, 'apple', 4, 5, 10]\n",
        "list2 = [4, 5, 6, 'Hi', 8, 'chocolate']\n",
        "print(\"Common elements:\", find_elements(list1, list2))"
      ],
      "metadata": {
        "colab": {
          "base_uri": "https://localhost:8080/"
        },
        "id": "xXwUhp2TgmhW",
        "outputId": "84852658-84c8-4b78-947e-fb383c437acf"
      },
      "execution_count": null,
      "outputs": [
        {
          "output_type": "stream",
          "name": "stdout",
          "text": [
            "Common elements: ['Hi', 4, 5]\n"
          ]
        }
      ]
    },
    {
      "cell_type": "markdown",
      "source": [
        "39. Write a Python program that uses a loop to iterate over a range of numbers. The range should start from 0 and decrease by 2 each time until it reaches a number less than -10. For each number in the range, print whether it is an even number or an odd number."
      ],
      "metadata": {
        "id": "hdK7PBENhKRd"
      }
    },
    {
      "cell_type": "code",
      "source": [
        "for num in range(0, -12, -2):\n",
        "    if num % 2 == 0:\n",
        "        print(f\"{num} is even\")\n",
        "    else:\n",
        "        print(f\"{num} is odd\")"
      ],
      "metadata": {
        "colab": {
          "base_uri": "https://localhost:8080/"
        },
        "id": "M0Gcw28mhV_I",
        "outputId": "7a811a2d-e604-4137-8851-753f3b7809b7"
      },
      "execution_count": null,
      "outputs": [
        {
          "output_type": "stream",
          "name": "stdout",
          "text": [
            "0 is even\n",
            "-2 is even\n",
            "-4 is even\n",
            "-6 is even\n",
            "-8 is even\n",
            "-10 is even\n"
          ]
        }
      ]
    },
    {
      "cell_type": "markdown",
      "source": [
        "41. Write a loop in Python that prints the numbers from 1 to 10."
      ],
      "metadata": {
        "id": "8csErMSdhcMy"
      }
    },
    {
      "cell_type": "code",
      "source": [
        "for i in range(1, 11):\n",
        "    print(i)"
      ],
      "metadata": {
        "id": "5mqRWsLehgnf"
      },
      "execution_count": null,
      "outputs": []
    },
    {
      "cell_type": "markdown",
      "source": [
        "42. How do you create a dictionary in Python? Provide an example."
      ],
      "metadata": {
        "id": "6fot_XR-hn1v"
      }
    },
    {
      "cell_type": "code",
      "source": [
        "student_info = {'name': 'Ramim',\n",
        "                'age': 22,\n",
        "                'major': 'Computer Science'}\n",
        "print(student_info)"
      ],
      "metadata": {
        "colab": {
          "base_uri": "https://localhost:8080/"
        },
        "id": "_waenKnghtaJ",
        "outputId": "143551ff-fe50-44ba-cd09-e34f1a50aaec"
      },
      "execution_count": null,
      "outputs": [
        {
          "output_type": "stream",
          "name": "stdout",
          "text": [
            "{'name': 'Ramim', 'age': 22, 'major': 'Computer Science'}\n"
          ]
        }
      ]
    },
    {
      "cell_type": "markdown",
      "source": [
        "43. Write a Python code snippet that checks if a number is even or odd. The number will be provided by the user. So you have to take a number as input then check if the number is even or odd."
      ],
      "metadata": {
        "id": "2g5ttI11if8a"
      }
    },
    {
      "cell_type": "code",
      "source": [
        "number = int(input(\"Enter a number: \"))\n",
        "\n",
        "if number % 2 == 0:\n",
        "    print(f\"{number} is even.\")\n",
        "else:\n",
        "    print(f\"{number} is odd.\")"
      ],
      "metadata": {
        "colab": {
          "base_uri": "https://localhost:8080/"
        },
        "id": "_YqP7Z6gil4A",
        "outputId": "a9c06016-a8e8-44ce-a749-db161325fc89"
      },
      "execution_count": null,
      "outputs": [
        {
          "output_type": "stream",
          "name": "stdout",
          "text": [
            "Enter a number: 20\n",
            "20 is even.\n"
          ]
        }
      ]
    },
    {
      "cell_type": "markdown",
      "source": [
        "44. Write a Python program that prints the multiplication from 1 to 10."
      ],
      "metadata": {
        "id": "jp9JtcQ2i3Ow"
      }
    },
    {
      "cell_type": "code",
      "source": [
        "for i in range(1, 11):\n",
        "    for j in range(1, 11):\n",
        "        print(f\"{i} x {j} = {i * j}\")\n",
        "    print()"
      ],
      "metadata": {
        "id": "Y7kzsB9ci5_c"
      },
      "execution_count": null,
      "outputs": []
    },
    {
      "cell_type": "markdown",
      "source": [
        "45. Write a Python code snippet that checks if a number is even or odd."
      ],
      "metadata": {
        "id": "ELnIouOajQ78"
      }
    },
    {
      "cell_type": "code",
      "source": [
        "number = int(input(\"Enter a number: \"))\n",
        "\n",
        "if number % 2 == 0:\n",
        "    print(f\"{number} is even.\")\n",
        "else:\n",
        "    print(f\"{number} is odd.\")"
      ],
      "metadata": {
        "colab": {
          "base_uri": "https://localhost:8080/"
        },
        "id": "4sy_rGJejVyD",
        "outputId": "3caa4701-bae7-45e1-8edf-f3a2da7f3e8e"
      },
      "execution_count": null,
      "outputs": [
        {
          "output_type": "stream",
          "name": "stdout",
          "text": [
            "Enter a number: 44\n",
            "44 is even.\n"
          ]
        }
      ]
    },
    {
      "cell_type": "markdown",
      "source": [
        "46. What is the output of the following code?  \n",
        "```\n",
        "for num in range(10):\n",
        "if num % 2 == 0:\n",
        "continue\n",
        "print(num)\n",
        "```"
      ],
      "metadata": {
        "id": "TuFAShiAjhM3"
      }
    },
    {
      "cell_type": "code",
      "source": [
        "#Output\n",
        "#1\n",
        "#3\n",
        "#5\n",
        "#7\n",
        "#9"
      ],
      "metadata": {
        "id": "C62Bf2I_ldXG"
      },
      "execution_count": null,
      "outputs": []
    },
    {
      "cell_type": "markdown",
      "source": [
        "47. What is the output of the following code?  \n",
        "```\n",
        "s = \"Welcome\"\n",
        "print(s)\n",
        "s = s + \" to\"\n",
        "print(s)\n",
        "s += \" Python!\"\n",
        "print(s)\n",
        "s = s[:16]\n",
        "print(s)\n",
        "s = s.replace(\"Welcome\", \"introduction\")\n",
        "print(s)\n",
        "```"
      ],
      "metadata": {
        "id": "CCjhRRH0llS4"
      }
    },
    {
      "cell_type": "code",
      "source": [
        "#output\n",
        "\n",
        "#Welcome\n",
        "#Welcome to\n",
        "#Welcome to Python!\n",
        "#Welcome to Python!\n",
        "#introduction to Python!"
      ],
      "metadata": {
        "id": "-H9j3R8jlvkZ"
      },
      "execution_count": null,
      "outputs": []
    },
    {
      "cell_type": "markdown",
      "source": [
        "48. What is the output of the following code?  \n",
        "```\n",
        "x = \"introduction to Python\"\n",
        "movie = \"Inception\"\n",
        "book = \"Sherlock Holmes\"\n",
        "poem = \"the sun rises over the quiet town\"   \n",
        "print(x.islower())\n",
        "print(x.isupper())\n",
        "print(movie.startswith(\"inception\"))\n",
        "print(movie.endswith(\"Journey\"))\n",
        "print(book.istitle())\n",
        "print(poem.istitle())\n",
        "print(book[-11:-4])\n",
        "```"
      ],
      "metadata": {
        "id": "Hht_3bOomHGQ"
      }
    },
    {
      "cell_type": "code",
      "source": [
        "#Output\n",
        "\n",
        "#False\n",
        "#False\n",
        "#False\n",
        "#False\n",
        "#True\n",
        "#False\n",
        "#Holm"
      ],
      "metadata": {
        "id": "7rhqTebUmdfd"
      },
      "execution_count": null,
      "outputs": []
    }
  ]
}